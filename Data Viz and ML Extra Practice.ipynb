{
 "cells": [
  {
   "cell_type": "markdown",
   "metadata": {
    "tags": []
   },
   "source": [
    "# Extra Practice for Data viz and Machine Learning\n",
    "### Alex\n",
    "This notebook is for extra practice with `Seaborn` and `scikit-learn`. We will be using a couple of different datasets from the `vega-datasets` library. If you don't know what that is, it's fine - it's just a library with some really nice practice datasets to use. This challenge does not have any tests, as it's partly to help you explore what you can do with `seaborn`, but you can compare your plots visually to the examples shown. Please look at the documentation and see what other cool plots you can come up with!   \n",
    "  \n",
    "For reference, here are links to the documentation of the `seaborn` functions you should use:\n",
    " - [catplot](https://seaborn.pydata.org/generated/seaborn.catplot.html)\n",
    " - [relplot](https://seaborn.pydata.org/generated/seaborn.relplot.html)\n",
    " - [heatmap](https://seaborn.pydata.org/generated/seaborn.kdeplot.html)\n",
    " - [plot a distribution](https://seaborn.pydata.org/generated/seaborn.kdeplot.html)\n",
    " - [plot a regression line](https://seaborn.pydata.org/generated/seaborn.regplot.html)\n",
    " - [plot bivariate data with axis graphs](https://seaborn.pydata.org/generated/seaborn.jointplot.html)"
   ]
  },
  {
   "cell_type": "code",
   "execution_count": null,
   "metadata": {
    "tags": []
   },
   "outputs": [],
   "source": [
    "import pandas as pd\n",
    "import seaborn as sns\n",
    "import matplotlib.pyplot as plt\n",
    "\n",
    "sns.set()\n",
    "\n",
    "cars = pd.read_csv('cars.csv')\n",
    "barley = pd.read_csv('barley.csv')\n",
    "\n",
    "# only for Jupyter\n",
    "%matplotlib inline"
   ]
  },
  {
   "cell_type": "markdown",
   "metadata": {},
   "source": [
    "The `cars` dataset is a dataset with a bunch of different models of car, with several different statistics about each of them, including their horsepower, acceleration, etc., the year they were released, and their country of origin. Here's what it looks like:"
   ]
  },
  {
   "cell_type": "code",
   "execution_count": null,
   "metadata": {},
   "outputs": [],
   "source": [
    "cars.head()"
   ]
  },
  {
   "cell_type": "markdown",
   "metadata": {},
   "source": [
    "You may have seen the `barley` dataset before - it's a bunch of measurements of barley yields at several different sites and over multiple years."
   ]
  },
  {
   "cell_type": "code",
   "execution_count": null,
   "metadata": {},
   "outputs": [],
   "source": [
    "barley.head()"
   ]
  },
  {
   "cell_type": "markdown",
   "metadata": {},
   "source": [
    "# Data Viz and ML with Quantitative data\n",
    "For this section, we will be working with the `cars` dataset. The majority of the columns in the dataset are *quantitative*, which means it's numbers that don't fit into a specific category. If you're unclear about different types of data, take another look at the lessons, or see [this article on types of data](https://www.dummies.com/education/math/statistics/types-of-statistical-data-numerical-categorical-and-ordinal/).  \n",
    "  \n",
    "As a reminder, here's what the `cars` dataset looks like."
   ]
  },
  {
   "cell_type": "code",
   "execution_count": null,
   "metadata": {},
   "outputs": [],
   "source": [
    "cars.head()"
   ]
  },
  {
   "cell_type": "markdown",
   "metadata": {},
   "source": [
    "## Problem 1) Scatterplot"
   ]
  },
  {
   "cell_type": "markdown",
   "metadata": {},
   "source": [
    "Create a scatterplot using `seaborn` and the `cars` dataset that plots `Horsepower` on the x-axis and `Miles_per_Gallon` on the y-axis. The points should be colored by the country of origin. The x-axis title should be `Horsepower` and the y-axis label should be `Miles per Gallon`. The plot should be titled 'Horsepower vs. Miles per Gallon'.  \n",
    "Your plot should look like this:  \n",
    "  \n",
    "![plot](ml_dataviz_img/hp_vs_mpg.png)"
   ]
  },
  {
   "cell_type": "code",
   "execution_count": null,
   "metadata": {},
   "outputs": [],
   "source": [
    "# Enter your solution here!\n",
    "sns.relplot(y='Miles_per_Gallon', x='Horsepower', hue='Origin', data=cars)\n",
    "plt.ylabel('Miles per Gallon')\n",
    "plt.title('Horsepower vs. Miles per Gallon')\n",
    "plt.show()"
   ]
  },
  {
   "cell_type": "markdown",
   "metadata": {},
   "source": [
    "## Problem 2) Distribution"
   ]
  },
  {
   "cell_type": "markdown",
   "metadata": {},
   "source": [
    "Plot a distribution of the horsepower of the `cars` dataset. the x-axis should be labeled 'Horsepower', and the plot should be titled 'Distribution of Horsepower'. Your plot should look like this:  \n",
    "  \n",
    "![plot](ml_dataviz_img/hp_dist.png)"
   ]
  },
  {
   "cell_type": "code",
   "execution_count": null,
   "metadata": {},
   "outputs": [],
   "source": [
    "sns.kdeplot(cars['Horsepower'])\n",
    "plt.xlabel('Horsepower')\n",
    "plt.title('Distribution of Horsepower')\n",
    "plt.show()"
   ]
  },
  {
   "cell_type": "markdown",
   "metadata": {},
   "source": [
    "## Problem 3) Bivariate Data"
   ]
  },
  {
   "cell_type": "markdown",
   "metadata": {},
   "source": [
    "Plot a *bivariate distribution* - two categorical variable distributions plotted against each other - of miles per gallon on the y-axis and horsepower on the x-axis. Compare this to the corresponding scatterplot - what do you see?  \n",
    "  \n",
    "You will need to use the `data2` optional variable of `kdeplot`, and you will need to use `dropna`. Your plot should look like this:  \n",
    "  \n",
    "![plot](ml_dataviz_img/hp_vs_mpg_dist.png)"
   ]
  },
  {
   "cell_type": "code",
   "execution_count": null,
   "metadata": {},
   "outputs": [],
   "source": [
    "cars.head()"
   ]
  },
  {
   "cell_type": "code",
   "execution_count": null,
   "metadata": {},
   "outputs": [],
   "source": [
    "cars = cars.dropna()\n",
    "sns.kdeplot(data=cars['Horsepower'], data2=cars['Miles_per_Gallon'])\n",
    "plt.title('Distributions of Horsepower vs Miles per Gallon')\n",
    "plt.ylabel('Miles per Gallon')\n",
    "plt.show()"
   ]
  },
  {
   "cell_type": "markdown",
   "metadata": {},
   "source": [
    "## Problem 4) Regression Plot"
   ]
  },
  {
   "cell_type": "markdown",
   "metadata": {},
   "source": [
    "Plot a linear regression, with acceleration on the x-axis and weight on the y-axis. There should be a linear regression line. The x-axis should have a label of 'Acceleration', and the y-axis should have a label of 'Weight (lbs)'. The plot should be titled 'Regression of Acceleration vs. Weight (lbs)'. Also, for an added bit of fun, set the 'marker' to be '*' and the color to be 'r'.  \n",
    "  \n",
    "![plot](ml_dataviz_img/acc_vs_lbs_reg.png)"
   ]
  },
  {
   "cell_type": "code",
   "execution_count": null,
   "metadata": {},
   "outputs": [],
   "source": [
    "sns.regplot(x='Acceleration', y='Weight_in_lbs', data=cars, marker='*', color='r')\n",
    "plt.title('Regression of Acceleration vs. Weight (lbs)')\n",
    "plt.ylabel('Weight (lbs)')\n",
    "plt.show()"
   ]
  },
  {
   "cell_type": "markdown",
   "metadata": {},
   "source": [
    "## Problem 5) Joint hexplot and binned histograms"
   ]
  },
  {
   "cell_type": "markdown",
   "metadata": {},
   "source": [
    "Plot a hexplot of horsepower on the x-axis and weight on the y-axis, so that there are distributions show of horsepower and weight on the x and y axes (See the documentation of jointplot on the seaborn website). Instead of titleing the y label, try and rename the `DataFrame` column to something else. What happens if you use `plt.ylabel` on this type of chart? What happens if you try and add a title? Use magenta as the color. Your plot should look like this:  \n",
    "  \n",
    "![plot](ml_dataviz_img/lbs_vs_hp_joint.png)"
   ]
  },
  {
   "cell_type": "code",
   "execution_count": null,
   "metadata": {},
   "outputs": [],
   "source": [
    "cars['Weight (lbs)'] = cars['Weight_in_lbs']\n",
    "sns.jointplot(x='Horsepower', y='Weight (lbs)', kind='hex', data=cars, color='m')\n",
    "plt.show\n"
   ]
  },
  {
   "cell_type": "markdown",
   "metadata": {},
   "source": [
    "## Problem 6) ML with Quantitative Data"
   ]
  },
  {
   "cell_type": "markdown",
   "metadata": {},
   "source": [
    "Create and train a model that, given the `cars` dataset, create a model that will predict the Horsepower of a car. Think about the type of data you are trying to predict - what model should you use to predict quantitative data? Make sure to split training and testing data, and check the mean squared error of your model."
   ]
  },
  {
   "cell_type": "code",
   "execution_count": null,
   "metadata": {
    "tags": []
   },
   "outputs": [],
   "source": [
    "from sklearn.tree import DecisionTreeRegressor\n",
    "from sklearn.metrics import mean_squared_error\n",
    "from sklearn.model_selection import train_test_split\n",
    "\n",
    "cars = cars.dropna()\n",
    "features = cars.loc[:, cars.columns != 'Horsepower']\n",
    "features = pd.get_dummies(features)\n",
    "labels = cars['Horsepower']\n",
    "\n",
    "features_train, features_test, labels_train, labels_test = \\\n",
    "    train_test_split(features, labels, test_size=0.2)\n",
    "\n",
    "model = DecisionTreeRegressor()\n",
    "model.fit(features_train, labels_train)\n",
    "\n",
    "train_predictions = model.predict(features_train)\n",
    "test_predictions = model.predict(features_test)\n",
    "\n",
    "train_msr = mean_squared_error(train_predictions, labels_train)\n",
    "test_msr = mean_squared_error(test_predictions, labels_test)\n",
    "print(f'Training Mean Squared Error: {train_msr}')\n",
    "print(f'Testing Mean Squared Error: {test_msr}')"
   ]
  },
  {
   "cell_type": "markdown",
   "metadata": {},
   "source": [
    "# Data Viz and ML with Categorical Data"
   ]
  },
  {
   "cell_type": "markdown",
   "metadata": {},
   "source": [
    "For this section, we will be using both the `barley` dataset and the `cars` dataset. You will get some experience setting up ML for categorical data, and see a few more types of plots you can do with categorical data, and some you can do to combine quantitative and categorical data."
   ]
  },
  {
   "cell_type": "code",
   "execution_count": null,
   "metadata": {},
   "outputs": [],
   "source": [
    "# here's a reminder of the barley dataset\n",
    "barley.head()"
   ]
  },
  {
   "cell_type": "markdown",
   "metadata": {},
   "source": [
    "## Problem 1) Bar Chart"
   ]
  },
  {
   "cell_type": "markdown",
   "metadata": {},
   "source": [
    "Plot a bar chart of the origin in the `cars` dataset. Remember to use the right function in `seaborn` - don't use `barplot` yet, it won't work quite right. Remember to add a descriptive axis labels and a title to your plot. Your plot should look like this:  \n",
    "  \n",
    "![plot](ml_dataviz_img/origin_bar.png)"
   ]
  },
  {
   "cell_type": "code",
   "execution_count": null,
   "metadata": {},
   "outputs": [],
   "source": [
    "sns.catplot('Origin', kind='count', data=cars)\n",
    "plt.ylabel('Count')\n",
    "plt.title('Origin of Cars')\n",
    "plt.savefig('ml_dataviz_img/origin_bar.png', bbox_inches='tight')"
   ]
  },
  {
   "cell_type": "markdown",
   "metadata": {},
   "source": [
    "## Problem 2) Combined Categorical with Quantitative Plot"
   ]
  },
  {
   "cell_type": "markdown",
   "metadata": {},
   "source": [
    "Plot a categorical chart of the `barley` dataset with the 'site' along the x-axis, the yield along the y-axis, and the color according to the variety of barley. There are two variants of this graph you can try out - the first if you just plot it, and the second if you did the extra practice with `groupby`, try and group according to the variety and the site at once, and reset the index. Here are a couple plots you could come up with:  \n",
    "  \n",
    "![plot](ml_dataviz_img/yield_vs_site_overall.png) ![plot](ml_dataviz_img/yield_vs_site_mean.png)"
   ]
  },
  {
   "cell_type": "code",
   "execution_count": null,
   "metadata": {},
   "outputs": [],
   "source": [
    "barley['Variety'] = barley['variety']\n",
    "barley['Yield'] = barley['yield']\n",
    "barley['Site'] = barley['site']\n",
    "barley['Year'] = barley['year']\n",
    "\n",
    "heatmap_barley = barley[['Site', 'Variety', 'Yield']]\n",
    "heatmap_barley = heatmap_barley.groupby(['Variety', 'Site']).mean()\n",
    "heatmap_barley = heatmap_barley.reset_index()\n",
    "\n",
    "order = ['University Farm', 'Waseca', 'Morris', 'Crookston', 'Grand Rapids', 'Duluth']\n",
    "sns.catplot(x='Site', y='Yield', hue='Variety', data=heatmap_barley, order=order)\n",
    "plt.title('Mean of Barley Yield at Different Sites')\n",
    "plt.ylabel('Mean of Yield')\n",
    "plt.xticks(rotation=-45)\n",
    "plt.savefig('ml_dataviz_img/yield_vs_site_mean', bbox_inches='tight')\n",
    "plt.show()"
   ]
  },
  {
   "cell_type": "markdown",
   "metadata": {},
   "source": [
    "## ML with Categorical Data"
   ]
  },
  {
   "cell_type": "markdown",
   "metadata": {},
   "source": [
    "Create, train, and test a model that will predict the country of origin for the `cars` dataset. Remember, this is categorical data, so you will need to use a different type of model than you did for the `Horsepower` model."
   ]
  },
  {
   "cell_type": "code",
   "execution_count": null,
   "metadata": {
    "tags": []
   },
   "outputs": [],
   "source": [
    "from sklearn.tree import DecisionTreeClassifier\n",
    "from sklearn.metrics import accuracy_score\n",
    "from sklearn.model_selection import train_test_split\n",
    "\n",
    "cars = cars.dropna()\n",
    "features = cars.loc[:, cars.columns != 'Origin']\n",
    "features = pd.get_dummies(features)\n",
    "labels = cars['Origin']\n",
    "\n",
    "features_train, features_test, labels_train, labels_test = \\\n",
    "    train_test_split(features, labels, test_size=0.2)\n",
    "\n",
    "model = DecisionTreeClassifier()\n",
    "model.fit(features_train, labels_train)\n",
    "\n",
    "train_predictions = model.predict(features_train)\n",
    "test_predictions = model.predict(features_test)\n",
    "\n",
    "train_accuracy = accuracy_score(train_predictions, labels_train)\n",
    "test_accuracy = accuracy_score(test_predictions, labels_test)\n",
    "print(f'Training Accuracy: {train_accuracy}')\n",
    "print(f'Testing Accuracy: {test_accuracy}')"
   ]
  },
  {
   "cell_type": "markdown",
   "metadata": {},
   "source": [
    "## Just for Kicks: Barley Heatmap"
   ]
  },
  {
   "cell_type": "markdown",
   "metadata": {},
   "source": [
    "`seaborn` has a `heatmap` function which produces some entertaining results. It takes two Categorical or Ordinal variables and plots them against each other, with the color of the corresponding box correlated to a third, quantitative, variable. To get data for this, we will have to `groupby` the `barley` dataset, then use `barley.pivot` to change the index and columns of the `DataFrame`. Take a look at the `pivot` [documentation](https://pandas.pydata.org/pandas-docs/stable/reference/api/pandas.DataFrame.pivot.html) if this interests you."
   ]
  },
  {
   "cell_type": "code",
   "execution_count": null,
   "metadata": {},
   "outputs": [],
   "source": [
    "barley_pivot = barley.loc[:, ['Year', 'Site', 'Yield']]\n",
    "barley_pivot = barley_pivot.groupby(['Year', 'Site']).sum()\n",
    "barley_pivot = barley_pivot.reset_index()\n",
    "barley_pivot['Yield'] = barley_pivot['Yield'].astype(int)\n",
    "barley_pivot = barley_pivot.pivot('Year', 'Site', 'Yield')"
   ]
  },
  {
   "cell_type": "markdown",
   "metadata": {},
   "source": [
    "Now, we can create our heatmap. Notice that we can very clearly see which years and sites did well overall - the same point could have been shown with a different plot, but this is still interesting to see."
   ]
  },
  {
   "cell_type": "code",
   "execution_count": null,
   "metadata": {},
   "outputs": [],
   "source": [
    "sns.heatmap(barley_pivot, annot=True, fmt='d')"
   ]
  }
 ],
 "metadata": {
  "kernelspec": {
   "display_name": "Python 3.8.3 64-bit ('comp-sci-ta': conda)",
   "language": "python",
   "name": "python38364bitcompscitacondab401a63813c94064944ec436b37cf97d"
  },
  "language_info": {
   "codemirror_mode": {
    "name": "ipython",
    "version": 3
   },
   "file_extension": ".py",
   "mimetype": "text/x-python",
   "name": "python",
   "nbconvert_exporter": "python",
   "pygments_lexer": "ipython3",
   "version": "3.8.3-final"
  }
 },
 "nbformat": 4,
 "nbformat_minor": 4
}
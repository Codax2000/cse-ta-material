{
 "cells": [
  {
   "cell_type": "markdown",
   "metadata": {},
   "source": [
    "## Problem #1\n",
    "Write a function called `get_counts` that will take a `String` as an argument and return a `Dict` with keys of the individual characters in the `String` and values that are the counts of the letters. The function should be case-insensitive, but should also have entries for each symbol.\n",
    "For example, `get_counts('Foo-bar')` should return `{'f': 1, 'o': 2, '-': 1, 'b': 1, 'a': 1, 'r': 1}`"
   ]
  },
  {
   "cell_type": "code",
   "execution_count": 3,
   "metadata": {},
   "outputs": [],
   "source": [
    "def get_counts(string):\n",
    "    string = string.lower()\n",
    "    result = dict()\n",
    "    for char in string:\n",
    "        if char not in result:\n",
    "            result[char] = 0\n",
    "        result[char] += 1\n",
    "    return result"
   ]
  },
  {
   "cell_type": "code",
   "execution_count": 9,
   "metadata": {},
   "outputs": [
    {
     "data": {
      "text/plain": [
       "False"
      ]
     },
     "execution_count": 9,
     "metadata": {},
     "output_type": "execute_result"
    }
   ],
   "source": [
    "dict1 = get_counts('Foo-bar')\n",
    "dict2 = get_counts('foo- bar')\n",
    "dict1 == dict2"
   ]
  },
  {
   "cell_type": "markdown",
   "metadata": {},
   "source": [
    "## Problem #2\n",
    "Write a function called `is_anagram` which takes in two `String`s as parameters and returns `True` if they are anagrams of each other, that is, if the characters inside them have the same number of occurrences. You may assume that the words passed in are lowercase and have characters only.  \n",
    "For example, `is_anagram('vile', 'evil')` would return `True`, but `is_anagram('wild', 'wile')` would return `False`.\n",
    "(I realize that this could basically be answered with the previous function. Oh well)"
   ]
  },
  {
   "cell_type": "code",
   "execution_count": 10,
   "metadata": {},
   "outputs": [],
   "source": [
    "def is_anagram(in_one, in_two):\n",
    "    return get_counts(in_one) == get_counts(in_two)"
   ]
  },
  {
   "cell_type": "code",
   "execution_count": 11,
   "metadata": {},
   "outputs": [
    {
     "data": {
      "text/plain": [
       "True"
      ]
     },
     "execution_count": 11,
     "metadata": {},
     "output_type": "execute_result"
    }
   ],
   "source": [
    "is_anagram('elliana wejak', 'waken alejail')"
   ]
  },
  {
   "cell_type": "code",
   "execution_count": 12,
   "metadata": {},
   "outputs": [
    {
     "data": {
      "text/plain": [
       "False"
      ]
     },
     "execution_count": 12,
     "metadata": {},
     "output_type": "execute_result"
    }
   ],
   "source": [
    "is_anagram('foo-bar', 'foobar')"
   ]
  },
  {
   "cell_type": "markdown",
   "metadata": {},
   "source": [
    "## Problem #3\n",
    "Write a function called `swap_adjacent` that takes as a parameter a `List` of numbers and returns a new `List` with every pair of 'adjacent' numbers swapped. Two numbers are defined as adjacent if the absolute value of the difference between them is 1. The original `List` should remain unchanged.  \n",
    "  \n",
    "For example, `swap_adjacent([1, 2, 4])` would return `[2, 1, 4]`, `swap_adjacent([1, 3, 5])` would return `[1, 3, 5]`, and `swap_adjacent([1, 2, 0])` would return `[2, 0, 1]`, since the 1 and the 2 would be swapped, then the 0 and the 1 would be swapped after. "
   ]
  },
  {
   "cell_type": "code",
   "execution_count": 24,
   "metadata": {},
   "outputs": [],
   "source": [
    "def swap_adjacent(arr):\n",
    "    result = list(arr)\n",
    "    if (len(arr) > 1):\n",
    "        for i in range(len(arr) - 1):\n",
    "            if (abs(result[i] - result[i + 1]) == 1):\n",
    "                temp = result[i]\n",
    "                result[i] = result[i + 1]\n",
    "                result[i + 1] = temp\n",
    "    return result"
   ]
  },
  {
   "cell_type": "code",
   "execution_count": 26,
   "metadata": {},
   "outputs": [],
   "source": [
    "assert (swap_adjacent([1, 2, 4]) == [2, 1, 4])\n",
    "assert (swap_adjacent([1, 3, 5]) == [1, 3, 5])\n",
    "assert (swap_adjacent([1, 2, 0]) == [2, 0, 1])"
   ]
  },
  {
   "cell_type": "markdown",
   "metadata": {},
   "source": [
    "## Problem #4\n",
    "Write a function called `is_ideal_target_average` that will take in a `List` of numbers, an integer `target`, and a number `cutoff` and return `True` if the average of all the values equal to or above the `cutoff` in the given `List` are strictly less than the given `target`. You may assume that the given `List` will have at least 1 value.  \n",
    "  \n",
    "For example, `is_ideal_target_average([1, 2, 5, 5], 4.5, 3)` would return `False` because the average of the two values above the cutoff of 3 is 5, which is greater than 4.5. However, `is_ideal_target_average([1, 2, 5, 5], 4.5, 2)` would return `True` because the average of the value equal to or above the cutoff (2, 5, and 5) is 4, which is less than the target of 4.5."
   ]
  },
  {
   "cell_type": "code",
   "execution_count": 30,
   "metadata": {},
   "outputs": [],
   "source": [
    "def is_ideal_target_average(nums, target, cutoff):\n",
    "    cutoff_sum = 0\n",
    "    cutoff_count = 0\n",
    "    for num in nums:\n",
    "        if num >= cutoff:\n",
    "            cutoff_sum += num\n",
    "            cutoff_count += 1\n",
    "    return (cutoff_sum / cutoff_count) < target"
   ]
  },
  {
   "cell_type": "code",
   "execution_count": 32,
   "metadata": {},
   "outputs": [],
   "source": [
    "assert not is_ideal_target_average([1, 2, 5, 5], 4.5, 3)\n",
    "assert not is_ideal_target_average([1, 2, 5, 5], 5, 3)\n",
    "assert is_ideal_target_average([1, 2, 5, 5], 4.5, 2)"
   ]
  }
 ],
 "metadata": {
  "kernelspec": {
   "display_name": "Python 3",
   "language": "python",
   "name": "python3"
  },
  "language_info": {
   "codemirror_mode": {
    "name": "ipython",
    "version": 3
   },
   "file_extension": ".py",
   "mimetype": "text/x-python",
   "name": "python",
   "nbconvert_exporter": "python",
   "pygments_lexer": "ipython3",
   "version": "3.8.3"
  }
 },
 "nbformat": 4,
 "nbformat_minor": 4
}

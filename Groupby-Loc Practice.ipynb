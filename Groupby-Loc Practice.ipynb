{
 "cells": [
  {
   "cell_type": "markdown",
   "metadata": {},
   "source": [
    "# Extra practice with groupby and loc\n",
    "## (And a couple extra things too!)"
   ]
  },
  {
   "cell_type": "markdown",
   "metadata": {},
   "source": [
    "Suppose you have a friend (let's call her Anna) that has just graduated after four years of college. During that time, she has been carefully keeping track of every expense she made during college, and now she wants to know a little about how much she spent.\n",
    "\n",
    "However, Jill realizes that doing this by hand might be a bit difficult, so she calls you (knowing that you know `pandas` and can help).\n",
    "\n",
    "Your task is to implement functions that help Anna answer some questions she has about her spending habits during college. Don't use loops, and make sure to use as much `pandas` as you can, since it's much faster.\n",
    "\n",
    "Here is the dataset that Anna has been carefully curating:"
   ]
  },
  {
   "cell_type": "code",
   "execution_count": 4,
   "metadata": {
    "tags": []
   },
   "outputs": [
    {
     "output_type": "execute_result",
     "data": {
      "text/plain": "       Year Quarter      Type  Amount\n0  Freshman  Autumn   Tuition  3011.0\n1  Freshman  Autumn   Housing  3988.0\n2  Freshman  Autumn      Fees   304.0\n3  Freshman  Autumn  Textbook    74.0\n4  Freshman  Autumn  Textbook    65.0",
      "text/html": "<div>\n<style scoped>\n    .dataframe tbody tr th:only-of-type {\n        vertical-align: middle;\n    }\n\n    .dataframe tbody tr th {\n        vertical-align: top;\n    }\n\n    .dataframe thead th {\n        text-align: right;\n    }\n</style>\n<table border=\"1\" class=\"dataframe\">\n  <thead>\n    <tr style=\"text-align: right;\">\n      <th></th>\n      <th>Year</th>\n      <th>Quarter</th>\n      <th>Type</th>\n      <th>Amount</th>\n    </tr>\n  </thead>\n  <tbody>\n    <tr>\n      <th>0</th>\n      <td>Freshman</td>\n      <td>Autumn</td>\n      <td>Tuition</td>\n      <td>3011.0</td>\n    </tr>\n    <tr>\n      <th>1</th>\n      <td>Freshman</td>\n      <td>Autumn</td>\n      <td>Housing</td>\n      <td>3988.0</td>\n    </tr>\n    <tr>\n      <th>2</th>\n      <td>Freshman</td>\n      <td>Autumn</td>\n      <td>Fees</td>\n      <td>304.0</td>\n    </tr>\n    <tr>\n      <th>3</th>\n      <td>Freshman</td>\n      <td>Autumn</td>\n      <td>Textbook</td>\n      <td>74.0</td>\n    </tr>\n    <tr>\n      <th>4</th>\n      <td>Freshman</td>\n      <td>Autumn</td>\n      <td>Textbook</td>\n      <td>65.0</td>\n    </tr>\n  </tbody>\n</table>\n</div>"
     },
     "metadata": {},
     "execution_count": 4
    }
   ],
   "source": [
    "import pandas as pd\n",
    "from cse163_utils import assert_equals\n",
    "\n",
    "expense_data = pd.read_csv('data/college_expenses.csv')\n",
    "\n",
    "expense_data.head()"
   ]
  },
  {
   "cell_type": "markdown",
   "metadata": {},
   "source": [
    "## Problem #1"
   ]
  },
  {
   "cell_type": "markdown",
   "metadata": {},
   "source": [
    "Write a function called expenses_by_year that accepts a DataFrame as a parameter and returns a Series of the total expenses summed by the year in which they were made."
   ]
  },
  {
   "cell_type": "code",
   "execution_count": 5,
   "metadata": {},
   "outputs": [],
   "source": [
    "def expenses_by_year(data):\n",
    "    return data.groupby('Year')['Amount'].sum()"
   ]
  },
  {
   "cell_type": "code",
   "execution_count": 6,
   "metadata": {},
   "outputs": [],
   "source": [
    "# Run this cell to test your code!\n",
    "result = expenses_by_year(expense_data)\n",
    "assert_equals(22844.00, result['Freshman'])\n",
    "assert_equals(22839.09, result['Sophomore'])"
   ]
  },
  {
   "cell_type": "markdown",
   "metadata": {},
   "source": [
    "## Problem #2"
   ]
  },
  {
   "cell_type": "markdown",
   "metadata": {},
   "source": [
    "Write a function called tuition_by_year that accepts a DataFrame and returns a Series of the total tuition paid by year."
   ]
  },
  {
   "cell_type": "code",
   "execution_count": 7,
   "metadata": {},
   "outputs": [],
   "source": [
    "def tuition_by_year(data):\n",
    "    is_tuition = data['Type'] == 'Tuition'\n",
    "    data = data[is_tuition]\n",
    "    return data.groupby('Year')['Amount'].sum()"
   ]
  },
  {
   "cell_type": "code",
   "execution_count": 8,
   "metadata": {},
   "outputs": [],
   "source": [
    "# testing cell\n",
    "result = tuition_by_year(expense_data)\n",
    "assert_equals(9033.00, result['Freshman'])\n",
    "assert_equals(9303.99, result['Senior'])"
   ]
  },
  {
   "cell_type": "markdown",
   "metadata": {},
   "source": [
    "## Problem #3"
   ]
  },
  {
   "cell_type": "markdown",
   "metadata": {},
   "source": [
    "Write a function called highest_total_personal that accepts a DataFrame and returns the largest amount spent on personal expenses in a year."
   ]
  },
  {
   "cell_type": "code",
   "execution_count": 9,
   "metadata": {},
   "outputs": [],
   "source": [
    "def highest_total_personal(data):\n",
    "    is_personal = data['Type'] == 'Personal'\n",
    "    data = data[is_personal]\n",
    "    return data.groupby('Year')['Amount'].sum().max()"
   ]
  },
  {
   "cell_type": "code",
   "execution_count": 10,
   "metadata": {},
   "outputs": [],
   "source": [
    "# testing cell\n",
    "assert_equals(429.0, highest_total_personal(expense_data))"
   ]
  },
  {
   "cell_type": "markdown",
   "metadata": {},
   "source": [
    "## Grouping on multiple columns"
   ]
  },
  {
   "cell_type": "markdown",
   "metadata": {},
   "source": [
    "You can group by multiple columns in `.groupby`. Do this by passing a `List` instead of a single value, for example:"
   ]
  },
  {
   "cell_type": "code",
   "execution_count": 11,
   "metadata": {},
   "outputs": [
    {
     "output_type": "execute_result",
     "data": {
      "text/plain": "a   b \n50  30    43\n    36    20\nName: c, dtype: int64"
     },
     "metadata": {},
     "execution_count": 11
    }
   ],
   "source": [
    "sample_data = pd.DataFrame([\n",
    "    {'a': 50, 'b': 30, 'c': 25},\n",
    "    {'a': 50, 'b': 36, 'c': 20},\n",
    "    {'a': 50, 'b': 30, 'c': 18}\n",
    "])\n",
    "# groups the data into groups with identical 'a' and 'b' values,\n",
    "# only if both columns are the same, then sums the 'c' column\n",
    "sample_groups = sample_data.groupby(['a', 'b'])['c'].sum()\n",
    "sample_groups"
   ]
  },
  {
   "cell_type": "markdown",
   "metadata": {},
   "source": [
    "The object returned by this type of `.groupby` is a `Series`, where the index of the `Series` is a `Tuple`. Therefore, you can access columns by passing in a `Tuple`."
   ]
  },
  {
   "cell_type": "code",
   "execution_count": 12,
   "metadata": {},
   "outputs": [
    {
     "output_type": "execute_result",
     "data": {
      "text/plain": "20"
     },
     "metadata": {},
     "execution_count": 12
    }
   ],
   "source": [
    "sample_groups[(50, 36)] # returns the value of the second row"
   ]
  },
  {
   "cell_type": "markdown",
   "metadata": {},
   "source": [
    "## Problem #4"
   ]
  },
  {
   "cell_type": "markdown",
   "metadata": {},
   "source": [
    "Write a function called highest_total_textbook_expense that accepts a DataFrame and returns the highest amount spent on textbooks in any 1 quarter (hint: you will have to group by multiple columns)"
   ]
  },
  {
   "cell_type": "code",
   "execution_count": 13,
   "metadata": {},
   "outputs": [],
   "source": [
    "def highest_total_textbook_expense(data):\n",
    "    is_textbook = data['Type'] == 'Textbook'\n",
    "    data = data[is_textbook]\n",
    "    return data.groupby(['Year','Quarter'])['Amount'].sum().max()"
   ]
  },
  {
   "cell_type": "code",
   "execution_count": 14,
   "metadata": {},
   "outputs": [],
   "source": [
    "# testing cell\n",
    "assert_equals(294, highest_total_textbook_expense(expense_data))"
   ]
  },
  {
   "cell_type": "markdown",
   "metadata": {},
   "source": [
    "## Problem #5"
   ]
  },
  {
   "cell_type": "markdown",
   "metadata": {},
   "source": [
    "Write a function called highest_num_personal that accepts a DataFrame and returns the highest number of personal expenses that were made in a year."
   ]
  },
  {
   "cell_type": "code",
   "execution_count": 15,
   "metadata": {},
   "outputs": [],
   "source": [
    "def highest_num_personal(data):\n",
    "    is_personal = data['Type'] == 'Personal'\n",
    "    data = data[is_personal]\n",
    "    return data.groupby('Year')['Amount'].count()"
   ]
  },
  {
   "cell_type": "code",
   "execution_count": 16,
   "metadata": {},
   "outputs": [],
   "source": [
    "result = highest_num_personal(expense_data)\n",
    "assert_equals(16,  )\n",
    "assert_equals(11, result['Senior'])"
   ]
  },
  {
   "cell_type": "markdown",
   "metadata": {},
   "source": [
    "## Problem #6"
   ]
  },
  {
   "cell_type": "markdown",
   "metadata": {},
   "source": [
    "Write a function called most_expensive_textbook that accepts a DataFrame and returns the year in which Jane bought the most expensive textbook."
   ]
  },
  {
   "cell_type": "code",
   "execution_count": 17,
   "metadata": {},
   "outputs": [],
   "source": [
    "def most_expensive_textbook(data):\n",
    "    is_textbook = data['Type'] == 'Textbook'\n",
    "    data = data[is_textbook]\n",
    "    return data.loc[data['Amount'].idxmax(), 'Year']"
   ]
  },
  {
   "cell_type": "code",
   "execution_count": 18,
   "metadata": {},
   "outputs": [],
   "source": [
    "assert_equals('Freshman', most_expensive_textbook(expense_data))"
   ]
  },
  {
   "cell_type": "markdown",
   "metadata": {},
   "source": [
    "## Problem #7"
   ]
  },
  {
   "cell_type": "markdown",
   "metadata": {},
   "source": [
    "Write a function called highest_variable that accepts a DataFrame and returns a Tuple of the year and quarter in which Jane spent the most on variable costs (textbooks and personal costs combined)."
   ]
  },
  {
   "cell_type": "code",
   "execution_count": 19,
   "metadata": {},
   "outputs": [],
   "source": [
    "def highest_variable(data):\n",
    "    is_textbook = data['Type'] == 'Textbook'\n",
    "    is_personal = data['Type'] == 'Personal'\n",
    "    data = data[is_textbook | is_personal]\n",
    "    combined_costs = data.groupby(['Year','Quarter'])['Amount'].sum()\n",
    "    return combined_costs.idxmax()"
   ]
  },
  {
   "cell_type": "code",
   "execution_count": 20,
   "metadata": {},
   "outputs": [],
   "source": [
    "assert_equals(('Junior', 'Winter'), highest_variable(expense_data))"
   ]
  },
  {
   "cell_type": "markdown",
   "metadata": {},
   "source": [
    "## One more fun thing with `.groupby`"
   ]
  },
  {
   "cell_type": "markdown",
   "metadata": {},
   "source": [
    "One thing that is possible with `.groupby` is that you can aggregate all columns, not just one column, of a `DataFrame`. Do this by leaving out the second column of the `.groupby` call, like this:"
   ]
  },
  {
   "cell_type": "code",
   "execution_count": 21,
   "metadata": {
    "tags": []
   },
   "outputs": [],
   "source": [
    "# here is some sample data that we can work with\n",
    "sample_data = pd.DataFrame([\n",
    "    {'a': 50, 'b': 30, 'c': 25},\n",
    "    {'a': 50, 'b': 36, 'c': 20},\n",
    "    {'a': 53, 'b': 18, 'c': 14},\n",
    "    {'a': 53, 'b': 11, 'c': 61},\n",
    "    {'a': 50, 'b': 30, 'c': 18}\n",
    "])"
   ]
  },
  {
   "cell_type": "code",
   "execution_count": 22,
   "metadata": {},
   "outputs": [
    {
     "output_type": "execute_result",
     "data": {
      "text/plain": "     b   c\na         \n50  96  63\n53  29  75",
      "text/html": "<div>\n<style scoped>\n    .dataframe tbody tr th:only-of-type {\n        vertical-align: middle;\n    }\n\n    .dataframe tbody tr th {\n        vertical-align: top;\n    }\n\n    .dataframe thead th {\n        text-align: right;\n    }\n</style>\n<table border=\"1\" class=\"dataframe\">\n  <thead>\n    <tr style=\"text-align: right;\">\n      <th></th>\n      <th>b</th>\n      <th>c</th>\n    </tr>\n    <tr>\n      <th>a</th>\n      <th></th>\n      <th></th>\n    </tr>\n  </thead>\n  <tbody>\n    <tr>\n      <th>50</th>\n      <td>96</td>\n      <td>63</td>\n    </tr>\n    <tr>\n      <th>53</th>\n      <td>29</td>\n      <td>75</td>\n    </tr>\n  </tbody>\n</table>\n</div>"
     },
     "metadata": {},
     "execution_count": 22
    }
   ],
   "source": [
    "sample_regrouped = sample_data.groupby('a').sum()\n",
    "sample_regrouped"
   ]
  },
  {
   "cell_type": "markdown",
   "metadata": {},
   "source": [
    "This looks bizarre - everything seems out of place! However, it means that column `a` is now the index of the `DataFrame`, and columns `b` and `c` are just normal columns.\n",
    "\n",
    "In other words, this new structure is a `DataFrame` with columns of the original columns, except for the column that was grouped by (we grouped by column `a`, and columns `b` and `c` are left). Additionally, the index of the new `DataFrame` is made up of the original values of `a`."
   ]
  },
  {
   "cell_type": "code",
   "execution_count": 23,
   "metadata": {},
   "outputs": [
    {
     "output_type": "execute_result",
     "data": {
      "text/plain": "96"
     },
     "metadata": {},
     "execution_count": 23
    }
   ],
   "source": [
    "# Returns the value in column 'b' where the value of 'a' is 50.\n",
    "sample_regrouped.loc[50, 'b']"
   ]
  },
  {
   "cell_type": "markdown",
   "metadata": {},
   "source": [
    "If you want to keep the new `a` column to be a column in the resultant `DataFrame`, you will need to reset the index, using the `reset_index` function of a `DataFrame`."
   ]
  },
  {
   "cell_type": "code",
   "execution_count": 24,
   "metadata": {},
   "outputs": [
    {
     "output_type": "execute_result",
     "data": {
      "text/plain": "    a   b   c\n0  50  96  63\n1  53  29  75",
      "text/html": "<div>\n<style scoped>\n    .dataframe tbody tr th:only-of-type {\n        vertical-align: middle;\n    }\n\n    .dataframe tbody tr th {\n        vertical-align: top;\n    }\n\n    .dataframe thead th {\n        text-align: right;\n    }\n</style>\n<table border=\"1\" class=\"dataframe\">\n  <thead>\n    <tr style=\"text-align: right;\">\n      <th></th>\n      <th>a</th>\n      <th>b</th>\n      <th>c</th>\n    </tr>\n  </thead>\n  <tbody>\n    <tr>\n      <th>0</th>\n      <td>50</td>\n      <td>96</td>\n      <td>63</td>\n    </tr>\n    <tr>\n      <th>1</th>\n      <td>53</td>\n      <td>29</td>\n      <td>75</td>\n    </tr>\n  </tbody>\n</table>\n</div>"
     },
     "metadata": {},
     "execution_count": 24
    }
   ],
   "source": [
    "# After this call, 'a' is now a column of a new grouped DataFrame\n",
    "sample_regrouped.reset_index()"
   ]
  },
  {
   "cell_type": "markdown",
   "metadata": {},
   "source": [
    "Now, the `a` column is just another column, and the index of the `DataFrame` starts at 0 and increases by 1 for each row, just like normal."
   ]
  }
 ],
 "metadata": {
  "kernelspec": {
   "display_name": "Python 3.8.3 64-bit ('comp-sci-ta': conda)",
   "language": "python",
   "name": "python38364bitcompscitacondab401a63813c94064944ec436b37cf97d"
  },
  "language_info": {
   "codemirror_mode": {
    "name": "ipython",
    "version": 3
   },
   "file_extension": ".py",
   "mimetype": "text/x-python",
   "name": "python",
   "nbconvert_exporter": "python",
   "pygments_lexer": "ipython3",
   "version": "3.8.3-final"
  }
 },
 "nbformat": 4,
 "nbformat_minor": 4
}
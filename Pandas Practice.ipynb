{
 "cells": [
  {
   "cell_type": "markdown",
   "metadata": {},
   "source": [
    "# Pandas and List of Dictionaries\n",
    "This is a notebook of practice problems surrounding tabular data, using two formats - list of dictionaries and pandas `DataFrame`s. The data is the 'barley' dataset from vega's excellent free library of sample datasets. The problems marked 'a' use the 'list of dictionaries' format, and the problems marked 'b' use the `DataFrame` format."
   ]
  },
  {
   "cell_type": "code",
   "execution_count": 1,
   "metadata": {},
   "outputs": [
    {
     "output_type": "execute_result",
     "data": {
      "text/plain": "      yield    variety  year             site\n0  27.00000  Manchuria  1931  University Farm\n1  48.86667  Manchuria  1931           Waseca\n2  27.43334  Manchuria  1931           Morris\n3  39.93333  Manchuria  1931        Crookston\n4  32.96667  Manchuria  1931     Grand Rapids",
      "text/html": "<div>\n<style scoped>\n    .dataframe tbody tr th:only-of-type {\n        vertical-align: middle;\n    }\n\n    .dataframe tbody tr th {\n        vertical-align: top;\n    }\n\n    .dataframe thead th {\n        text-align: right;\n    }\n</style>\n<table border=\"1\" class=\"dataframe\">\n  <thead>\n    <tr style=\"text-align: right;\">\n      <th></th>\n      <th>yield</th>\n      <th>variety</th>\n      <th>year</th>\n      <th>site</th>\n    </tr>\n  </thead>\n  <tbody>\n    <tr>\n      <th>0</th>\n      <td>27.00000</td>\n      <td>Manchuria</td>\n      <td>1931</td>\n      <td>University Farm</td>\n    </tr>\n    <tr>\n      <th>1</th>\n      <td>48.86667</td>\n      <td>Manchuria</td>\n      <td>1931</td>\n      <td>Waseca</td>\n    </tr>\n    <tr>\n      <th>2</th>\n      <td>27.43334</td>\n      <td>Manchuria</td>\n      <td>1931</td>\n      <td>Morris</td>\n    </tr>\n    <tr>\n      <th>3</th>\n      <td>39.93333</td>\n      <td>Manchuria</td>\n      <td>1931</td>\n      <td>Crookston</td>\n    </tr>\n    <tr>\n      <th>4</th>\n      <td>32.96667</td>\n      <td>Manchuria</td>\n      <td>1931</td>\n      <td>Grand Rapids</td>\n    </tr>\n  </tbody>\n</table>\n</div>"
     },
     "metadata": {},
     "execution_count": 1
    }
   ],
   "source": [
    "# DO NOT modify this cell!\n",
    "import pandas as pd\n",
    "\n",
    "barley_df = pd.read_csv('data/barley.csv')\n",
    "barley_list = barley_df.to_dict('records')\n",
    "\n",
    "barley_df.head()"
   ]
  },
  {
   "cell_type": "markdown",
   "metadata": {},
   "source": [
    "## Problem #1a\n",
    "### Alex\n",
    "Write a function called `unique_sites` that will take in the `barley` dataset as a list of dictionaries as a parameter and return a `List` of all the unique sites at which barley was gathered."
   ]
  },
  {
   "cell_type": "code",
   "execution_count": null,
   "metadata": {},
   "outputs": [],
   "source": [
    "def unique_sites(data):\n",
    "    unique = list() # could also use list, no big deal\n",
    "    for row in data:\n",
    "        if row['site'] not in unique:\n",
    "            unique.append(row['site'])\n",
    "    return unique\n"
   ]
  },
  {
   "cell_type": "code",
   "execution_count": null,
   "metadata": {},
   "outputs": [],
   "source": [
    "# Testing cell, run to check code\n",
    "assert set(unique_sites(barley_list)) == set(['University Farm', 'Waseca', 'Morris', 'Crookston', 'Grand Rapids', 'Duluth'])"
   ]
  },
  {
   "cell_type": "markdown",
   "metadata": {},
   "source": [
    "## Problem #2a\n",
    "### Alex\n",
    "Write a function called `site_average` that will take in the `barley` dataset as a list of dictionaries and a `String` representing a particular site as a parameter (e.g. Duluth) and return the average barley yield at that site. You can assume that the `site` parameter will be a valid site in the dataset."
   ]
  },
  {
   "cell_type": "code",
   "execution_count": null,
   "metadata": {},
   "outputs": [],
   "source": [
    "def site_average(data, site):\n",
    "    yield_count = 0\n",
    "    yield_total = 0\n",
    "    for row in data:\n",
    "        if row['site'] == site:\n",
    "            yield_count += 1\n",
    "            yield_total += row['yield']\n",
    "    return yield_total / yield_count"
   ]
  },
  {
   "cell_type": "code",
   "execution_count": null,
   "metadata": {},
   "outputs": [],
   "source": [
    "assert site_average(barley_list, 'Morris') - 35.4000005 < 0.001\n",
    "assert site_average(barley_list, 'University Farm') - 32.666668 < 0.001"
   ]
  },
  {
   "cell_type": "markdown",
   "metadata": {},
   "source": [
    "## Problem #3a\n",
    "### Alex\n",
    "Write a function called `max_yield` that will take the `barley` dataset as a list of dictionaries as a parameter and return the greatest value in the `yield` column."
   ]
  },
  {
   "cell_type": "code",
   "execution_count": null,
   "metadata": {},
   "outputs": [],
   "source": [
    "def max_yield(data):\n",
    "    max = 0\n",
    "    for row in data:\n",
    "        if row['yield'] > max:\n",
    "            max = row['yield']\n",
    "    return max"
   ]
  },
  {
   "cell_type": "code",
   "execution_count": null,
   "metadata": {},
   "outputs": [],
   "source": [
    "assert max_yield(barley_list) - 65.7667 < 0.001"
   ]
  },
  {
   "cell_type": "markdown",
   "metadata": {},
   "source": [
    "## Problem #4a\n",
    "### Alex\n",
    "Write a function called `max_yield_info` that will take the `barley` dataset as a parameter and return the a `tuple` of the variety and site at which the greatest yield of barley occurred."
   ]
  },
  {
   "cell_type": "code",
   "execution_count": null,
   "metadata": {},
   "outputs": [],
   "source": [
    "def max_yield_info(data):\n",
    "    max = 0\n",
    "    max_site = ''\n",
    "    max_variety = ''\n",
    "    for row in data:\n",
    "        if row['yield'] > max:\n",
    "            max_site = row['site']\n",
    "            max_variety = row['variety']\n",
    "            max = row['yield']\n",
    "    return (max_variety, max_site)"
   ]
  },
  {
   "cell_type": "code",
   "execution_count": null,
   "metadata": {},
   "outputs": [],
   "source": [
    "assert max_yield_info(barley_list) == ('No. 462', 'Waseca')"
   ]
  },
  {
   "cell_type": "markdown",
   "metadata": {},
   "source": [
    "## Problem #5a\n",
    "### Alex\n",
    "Write a function called `max_yield_difference` that takes the `barley` dataset as a list of dictionaries and a `String` representing the variety of barley as parameters and returns the difference between the highest yield of that variety of barley and the lowest yield of that variety."
   ]
  },
  {
   "cell_type": "code",
   "execution_count": null,
   "metadata": {},
   "outputs": [],
   "source": [
    "def max_yield_difference(data, variety):\n",
    "    min = 0\n",
    "    max = 0\n",
    "    for row in data:\n",
    "        if row['variety'] == variety:\n",
    "            if row['yield'] < min:\n",
    "                min = row['yield']\n",
    "            elif row['yield'] > max:\n",
    "                max = row['yield']\n",
    "    return max - min"
   ]
  },
  {
   "cell_type": "code",
   "execution_count": null,
   "metadata": {},
   "outputs": [],
   "source": [
    "assert max_yield_difference(barley_list, 'Wisconsin No. 38') - 58.8 < 0.001\n",
    "assert max_yield_difference(barley_list, 'Manchuria') - 48.86667 < 0.001"
   ]
  },
  {
   "cell_type": "markdown",
   "metadata": {},
   "source": [
    "## Problem #1b\n",
    "### Alex\n",
    "Write a function called `unique_sites_pandas` that will take in the barley dataset as a `DataFrame` as a parameter and return a List of all the unique sites at which barley was gathered.\n",
    "(Remember - do not use loops in your solution)\n"
   ]
  },
  {
   "cell_type": "code",
   "execution_count": null,
   "metadata": {},
   "outputs": [],
   "source": [
    "def unique_sites_pandas(data):\n",
    "    return list(data['site'].unique())"
   ]
  },
  {
   "cell_type": "code",
   "execution_count": null,
   "metadata": {},
   "outputs": [],
   "source": [
    "assert set(unique_sites_pandas(barley_df)) == set(['University Farm', 'Waseca', 'Morris', 'Crookston', 'Grand Rapids', 'Duluth'])"
   ]
  },
  {
   "cell_type": "markdown",
   "metadata": {},
   "source": [
    "## Problem #2b\n",
    "### Alex\n",
    "Write a function called `site_average_pandas` that will take in the `barley` dataset as a `DataFrame` and a `String` representing a particular site as a parameter (e.g. Duluth) and return the average barley yield at that site. You can assume that the `site` parameter will be a valid site in the dataset."
   ]
  },
  {
   "cell_type": "code",
   "execution_count": null,
   "metadata": {},
   "outputs": [],
   "source": [
    "def site_average_pandas(data, site):\n",
    "    is_site = data['site'] == site\n",
    "    data = data[is_site]\n",
    "    return data['yield'].mean()"
   ]
  },
  {
   "cell_type": "code",
   "execution_count": null,
   "metadata": {
    "tags": []
   },
   "outputs": [],
   "source": [
    "assert site_average_pandas(barley_df, 'Morris') - 35.4000005 < 0.001\n",
    "assert site_average_pandas(barley_df, 'University Farm') - 32.666668 < 0.001"
   ]
  },
  {
   "cell_type": "markdown",
   "metadata": {},
   "source": [
    "## Problem #3b\n",
    "### Alex\n",
    "Write a function called `max_yield_pandas` that will take the `barley` dataset as a list of dictionaries and return the greatest value in the `yield` column.\n"
   ]
  },
  {
   "cell_type": "code",
   "execution_count": null,
   "metadata": {},
   "outputs": [],
   "source": [
    "def max_yield_pandas(data):\n",
    "    return data['yield'].max()"
   ]
  },
  {
   "cell_type": "code",
   "execution_count": null,
   "metadata": {},
   "outputs": [],
   "source": [
    "assert max_yield(barley_list) - 65.7667 < 0.001"
   ]
  },
  {
   "cell_type": "markdown",
   "metadata": {},
   "source": [
    "## Problem #4b\n",
    "### Alex\n",
    "Write a function called `max_yield_info_pandas` that will take the `barley` dataset as a `DataFrame` as a parameter and return the a `tuple` of the variety and site at which the greatest yield of barley occurred."
   ]
  },
  {
   "cell_type": "code",
   "execution_count": null,
   "metadata": {},
   "outputs": [],
   "source": [
    "def max_yield_info_pandas(data):\n",
    "    return tuple(data.loc[data['yield'].idxmax(), ['variety', 'site']])"
   ]
  },
  {
   "cell_type": "code",
   "execution_count": null,
   "metadata": {},
   "outputs": [],
   "source": [
    "assert max_yield_info_pandas(barley_df) == ('No. 462', 'Waseca')"
   ]
  },
  {
   "cell_type": "markdown",
   "metadata": {},
   "source": [
    "## Problem #5b\n",
    "### Alex\n",
    "Write a function called `max_yield_difference_pandas` that takes the `barley` dataset as a `DataFrame` and a `String` representing the variety of barley as parameters and returns the difference between the highest yield of that variety of barley and the lowest yield of that variety."
   ]
  },
  {
   "cell_type": "code",
   "execution_count": null,
   "metadata": {},
   "outputs": [],
   "source": [
    "def max_yield_difference_pandas(data, variety):\n",
    "    is_variety = data['variety'] == variety\n",
    "    data = data[is_variety]\n",
    "    return data['yield'].max() - data['yield'].min()"
   ]
  },
  {
   "cell_type": "code",
   "execution_count": null,
   "metadata": {},
   "outputs": [],
   "source": [
    "assert max_yield_difference_pandas(barley_df, 'Wisconsin No. 38') - 58.8 < 0.001\n",
    "assert max_yield_difference_pandas(barley_df, 'Manchuria') - 48.86667 < 0.001"
   ]
  }
 ],
 "metadata": {
  "language_info": {
   "codemirror_mode": {
    "name": "ipython",
    "version": 3
   },
   "file_extension": ".py",
   "mimetype": "text/x-python",
   "name": "python",
   "nbconvert_exporter": "python",
   "pygments_lexer": "ipython3",
   "version": "3.8.3-final"
  },
  "orig_nbformat": 2,
  "kernelspec": {
   "name": "python38364bitcompscitacondab401a63813c94064944ec436b37cf97d",
   "display_name": "Python 3.8.3 64-bit ('comp-sci-ta': conda)"
  }
 },
 "nbformat": 4,
 "nbformat_minor": 2
}
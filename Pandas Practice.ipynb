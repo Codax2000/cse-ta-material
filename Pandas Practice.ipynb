{
 "cells": [
  {
   "cell_type": "markdown",
   "metadata": {},
   "source": [
    "# Pandas and List of Dictionaries\n",
    "### Alex Knowlton\n",
    "This is a notebook of practice problems surrounding tabular data, using two formats - list of dictionaries and pandas `DataFrame`s. The data is the 'barley' dataset from vega's excellent free library of sample datasets."
   ]
  },
  {
   "cell_type": "code",
   "execution_count": 12,
   "metadata": {},
   "outputs": [
    {
     "output_type": "execute_result",
     "data": {
      "text/plain": "site\nCrookston          748.39997\nDuluth             559.93334\nGrand Rapids       498.63334\nMorris             708.00001\nUniversity Farm    653.33335\nWaseca             962.16663\nName: yield, dtype: float64"
     },
     "metadata": {},
     "execution_count": 12
    }
   ],
   "source": [
    "import pandas as pd\n",
    "from vega_datasets import data\n",
    "\n",
    "barley_df = data.barley()\n",
    "barley_list = barley_df.to_dict('records')\n",
    "\n",
    "barley_df.groupby('site')['yield'].sum()"
   ]
  },
  {
   "cell_type": "markdown",
   "metadata": {},
   "source": [
    "## Problem #1\n",
    "Write a function called `unique_sites` that will take in the `barley` dataset as a list of dictionaries as a parameter and return a `List` of all the unique sites at which barley was gathered."
   ]
  },
  {
   "cell_type": "code",
   "execution_count": 11,
   "metadata": {},
   "outputs": [],
   "source": [
    "def unique_sites(data):\n",
    "    unique = set() # could also use list, no big deal\n",
    "    for row in data:\n",
    "        unique.add(row['site'])\n",
    "    return list(unique)\n"
   ]
  },
  {
   "cell_type": "code",
   "execution_count": 14,
   "metadata": {},
   "outputs": [
    {
     "output_type": "execute_result",
     "data": {
      "text/plain": "['Morris', 'Waseca', 'University Farm', 'Duluth', 'Crookston', 'Grand Rapids']"
     },
     "metadata": {},
     "execution_count": 14
    }
   ],
   "source": [
    "# Testing cell, run to check code\n",
    "assert unique_sites(barley_list) == ['Morris', 'Waseca', 'University Farm', 'Duluth', 'Crookston', 'Grand Rapids']"
   ]
  },
  {
   "cell_type": "markdown",
   "metadata": {},
   "source": [
    "# Problem #2\n",
    "Write a function called `site_average` that will take in the `barley` dataset as a list of dictionaries and a `String` representing a particular site as a parameter (e.g. Duluth) and return the average barley yield at that site. "
   ]
  },
  {
   "cell_type": "code",
   "execution_count": null,
   "metadata": {},
   "outputs": [],
   "source": []
  }
 ],
 "metadata": {
  "language_info": {
   "codemirror_mode": {
    "name": "ipython",
    "version": 3
   },
   "file_extension": ".py",
   "mimetype": "text/x-python",
   "name": "python",
   "nbconvert_exporter": "python",
   "pygments_lexer": "ipython3",
   "version": "3.8.3-final"
  },
  "orig_nbformat": 2,
  "kernelspec": {
   "name": "python38364bitcompscitacondab401a63813c94064944ec436b37cf97d",
   "display_name": "Python 3.8.3 64-bit ('comp-sci-ta': conda)"
  }
 },
 "nbformat": 4,
 "nbformat_minor": 2
}